{
 "cells": [
  {
   "cell_type": "code",
   "execution_count": 1,
   "id": "00269189",
   "metadata": {},
   "outputs": [],
   "source": [
    "import psycopg\n",
    "import dotenv\n",
    "import os\n",
    "from openai import OpenAI\n"
   ]
  },
  {
   "cell_type": "code",
   "execution_count": 2,
   "id": "65fe81e3",
   "metadata": {},
   "outputs": [],
   "source": [
    "dotenv.load_dotenv()\n",
    "\n",
    "client = OpenAI()\n",
    "\n",
    "conn = psycopg.connect(\n",
    "    f\"dbname=postgres user=postgres password={os.environ.get('PG_PWD')} host=127.0.0.1 port=5432\"\n",
    ")\n",
    "\n",
    "SEARCH_QUERY = \"crypto\""
   ]
  },
  {
   "cell_type": "code",
   "execution_count": 3,
   "id": "38ba922a",
   "metadata": {},
   "outputs": [],
   "source": [
    "def create_embedding(client, data):\n",
    "    return client.embeddings.create(\n",
    "        model=\"text-embedding-3-small\",\n",
    "        input=str(data),\n",
    "        encoding_format=\"float\",\n",
    "    )"
   ]
  },
  {
   "cell_type": "code",
   "execution_count": 4,
   "id": "3d3035a2",
   "metadata": {},
   "outputs": [],
   "source": [
    "query_embedding = create_embedding(client, SEARCH_QUERY)\n"
   ]
  },
  {
   "cell_type": "code",
   "execution_count": 5,
   "id": "9907737c",
   "metadata": {},
   "outputs": [],
   "source": [
    "query_embedding_data = query_embedding.data[0].embedding\n"
   ]
  },
  {
   "cell_type": "code",
   "execution_count": 6,
   "id": "ae0e1ebd",
   "metadata": {},
   "outputs": [
    {
     "name": "stdout",
     "output_type": "stream",
     "text": [
      "(4, 'Crypto CEO Buys Volcano, Builds Thermal Mining Farm', 'Rumors swirled this week as leaked images revealed that Ivan \"Magma\" Tolensk, CEO of crypto firm LavaMint, has privately purchased a dormant volcano in El Salvador. Sources close to the matter suggest the crater will house geothermal crypto mining rigs. Skeptics cite local geological instability, while believers hail it as \"the natural evolution of proof-of-work.\"')\n",
      "(1, 'Sea Moss Currency? Barbados Launches Experimental Trade Token', 'In a bid to promote sustainable economic growth and capitalize on its marine resources, Barbados has announced the launch of the “MossCoin,” a blockchain-based token backed by sea moss harvests. Local cooperatives will receive MossCoin for each kilogram of certified organic sea moss, redeemable for agricultural tools, subsidies, and even inter-island ferry credits. Though skeptics have voiced concerns over its volatility, the government insists the initiative blends natural capital with modern fintech innovation.')\n",
      "(5, 'Goat Futures Down, Municipal Bonds Up', \"In an unexpected twist, Idaho's GoatFeed Bond Series C saw a 20-basis point drop following poor forage yields in the Boise Valley. Meanwhile, municipal bonds tied to Denver’s urban aquifer initiative rallied after Fitch upgraded their water credit index rating from BBB to A-. Traders described the divergence as “the new weird normal” in commodity-backed debt instruments.\")\n",
      "(7, 'Internal Memo: HR Department – Fuseline Asset Management', 'Subject: Bonus Restructuring – New Metrics\\n\"Effective Q3 2025, performance bonuses will be calculated based on portfolio volatility moderation as well as alpha generation. Compliance infractions (e.g., late trade reports, unauthorized Slack emojis) will result in tiered bonus reductions. Analysts with net green karma on FinSub (our internal subreddit) may qualify for culture multipliers.\"')\n",
      "(3, 'Shareholder Meeting Notes: Zunco Heavy Lifting Equipment Co.', '- A motion to divest the company\\'s exposure to lithium mining in disputed Bolivian territory was passed with 62% shareholder approval.\\n- CEO Rajiv Tan addressed rumors regarding a potential SPAC merger with DriFast Robotics, stating: \"We are exploring partnerships, not exits.\"\\n- A shareholder proposal to allow dividends to be paid in equipment credits was tabled for further legal review.\\n- Q&A concerns included workforce automation ethics and rising steel input costs.')\n"
     ]
    }
   ],
   "source": [
    "with conn.cursor() as cur:\n",
    "    try:\n",
    "        cur.execute(\n",
    "            \"\"\"\n",
    "            SELECT id, title, body\n",
    "            FROM documents\n",
    "            ORDER BY embedding <=> %s::vector\n",
    "            LIMIT 5;\n",
    "            \"\"\",\n",
    "            (query_embedding_data,),\n",
    "        )\n",
    "        results = cur.fetchall()\n",
    "    finally:\n",
    "        conn.rollback()\n",
    "    for row in results:\n",
    "        print(row)\n"
   ]
  }
 ],
 "metadata": {
  "kernelspec": {
   "display_name": "vectorfun",
   "language": "python",
   "name": "python3"
  },
  "language_info": {
   "codemirror_mode": {
    "name": "ipython",
    "version": 3
   },
   "file_extension": ".py",
   "mimetype": "text/x-python",
   "name": "python",
   "nbconvert_exporter": "python",
   "pygments_lexer": "ipython3",
   "version": "3.12.6"
  }
 },
 "nbformat": 4,
 "nbformat_minor": 5
}
