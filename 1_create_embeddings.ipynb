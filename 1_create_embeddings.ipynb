{
 "cells": [
  {
   "cell_type": "code",
   "execution_count": 1,
   "id": "56b24e42",
   "metadata": {},
   "outputs": [],
   "source": [
    "import dotenv\n",
    "import json\n",
    "\n",
    "from openai import OpenAI"
   ]
  },
  {
   "cell_type": "code",
   "execution_count": 2,
   "id": "ad2c8532",
   "metadata": {},
   "outputs": [],
   "source": [
    "dotenv.load_dotenv()\n",
    "\n",
    "client = OpenAI()\n"
   ]
  },
  {
   "cell_type": "code",
   "execution_count": 3,
   "id": "8bec8ce8",
   "metadata": {},
   "outputs": [
    {
     "data": {
      "text/plain": [
       "7"
      ]
     },
     "execution_count": 3,
     "metadata": {},
     "output_type": "execute_result"
    }
   ],
   "source": [
    "with open(\"data/1_input_data.json\", encoding=\"utf-8\") as f:\n",
    "    data: list[dict[str, str]] = json.load(f)\n",
    "len(data)"
   ]
  },
  {
   "cell_type": "code",
   "execution_count": 4,
   "id": "33297824",
   "metadata": {},
   "outputs": [],
   "source": [
    "def create_embedding(client, data):\n",
    "    return client.embeddings.create(\n",
    "        model=\"text-embedding-3-small\",\n",
    "        input=str(data),\n",
    "        encoding_format=\"float\",\n",
    "    )\n"
   ]
  },
  {
   "cell_type": "code",
   "execution_count": 5,
   "id": "3a27530c",
   "metadata": {},
   "outputs": [
    {
     "name": "stdout",
     "output_type": "stream",
     "text": [
      "create embedding for Sea Moss Currency? Barbados Launches Experimental Trade Token\n",
      "create embedding for Q2 Earnings Report: CarboVest Incorporated (Ticker: CVST)\n",
      "create embedding for Shareholder Meeting Notes: Zunco Heavy Lifting Equipment Co.\n",
      "create embedding for Crypto CEO Buys Volcano, Builds Thermal Mining Farm\n",
      "create embedding for Goat Futures Down, Municipal Bonds Up\n",
      "create embedding for Startup Pitch Deck Summary: CashBerry App\n",
      "create embedding for Internal Memo: HR Department – Fuseline Asset Management\n"
     ]
    }
   ],
   "source": [
    "for i, document in enumerate(data):\n",
    "    print(f\"create embedding for {document['title']}\")\n",
    "    embedding = create_embedding(client, document)\n",
    "    document[\"embedding\"] = embedding.to_dict()"
   ]
  },
  {
   "cell_type": "code",
   "execution_count": 6,
   "id": "77c5bac9",
   "metadata": {},
   "outputs": [
    {
     "data": {
      "text/plain": [
       "7"
      ]
     },
     "execution_count": 6,
     "metadata": {},
     "output_type": "execute_result"
    }
   ],
   "source": [
    "with open(\"data/2_data_with_embeddings.json\", \"w\", encoding=\"utf-8\") as f:\n",
    "    json.dump(data, f, indent=4)\n",
    "len(data)"
   ]
  }
 ],
 "metadata": {
  "kernelspec": {
   "display_name": "vectorfun",
   "language": "python",
   "name": "python3"
  },
  "language_info": {
   "codemirror_mode": {
    "name": "ipython",
    "version": 3
   },
   "file_extension": ".py",
   "mimetype": "text/x-python",
   "name": "python",
   "nbconvert_exporter": "python",
   "pygments_lexer": "ipython3",
   "version": "3.12.6"
  }
 },
 "nbformat": 4,
 "nbformat_minor": 5
}
